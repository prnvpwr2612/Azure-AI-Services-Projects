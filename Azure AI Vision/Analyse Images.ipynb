{
 "cells": [
  {
   "cell_type": "code",
   "execution_count": null,
   "metadata": {},
   "outputs": [],
   "source": [
    "from azure.ai.vision.imageanalysis import ImageAnalysisClient\n",
    "from azure.ai.vision.imageanalysis.models import VisualFeatures\n",
    "from azure.core.credentials import AzureKeyCredential\n",
    "\n",
    "client = ImageAnalysisClient(\n",
    "    endpoint=os.environ[\"ENDPOINT\"],\n",
    "    credential=AzureKeyCredential(os.environ[\"KEY\"])\n",
    ")\n",
    "\n",
    "result = client.analyze(\n",
    "    image_url=\"https://english.mathrubhumi.com/image/contentid/policy:1.9683597:1719795965/GettyImages-2159982878.jpg?$p=69a5341&f=16x10&w=852&q=0.8\",\n",
    "    visual_features=[VisualFeatures.CAPTION, VisualFeatures.READ],\n",
    "    gender_neutral_caption=True,\n",
    "    language=\"en\",\n",
    ")"
   ]
  }
 ],
 "metadata": {
  "language_info": {
   "name": "python"
  }
 },
 "nbformat": 4,
 "nbformat_minor": 2
}
